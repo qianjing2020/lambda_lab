{
 "cells": [
  {
   "cell_type": "code",
   "execution_count": null,
   "metadata": {
    "colab": {},
    "colab_type": "code",
    "id": "I0OTQ9Ey7YHW"
   },
   "outputs": [],
   "source": [
    "%matplotlib inline"
   ]
  },
  {
   "cell_type": "code",
   "execution_count": null,
   "metadata": {
    "colab": {
     "base_uri": "https://localhost:8080/",
     "height": 72
    },
    "colab_type": "code",
    "id": "1gwtAtaJ7RTN",
    "outputId": "77371b35-6929-4a4a-bdc0-ff77bdf92689"
   },
   "outputs": [],
   "source": [
    "import pandas as pd\n",
    "import numpy as np\n",
    "import matplotlib.pyplot as plt\n",
    "import seaborn as sns"
   ]
  },
  {
   "cell_type": "code",
   "execution_count": null,
   "metadata": {
    "colab": {},
    "colab_type": "code",
    "id": "66lPusKb7RV_"
   },
   "outputs": [],
   "source": [
    "sns.set() # matplot lib defaults\n",
    "plt.rcParams['figure.figsize'] = (16, 8)\n",
    "%config InlineBackend.figure_format='retina'"
   ]
  },
  {
   "cell_type": "code",
   "execution_count": null,
   "metadata": {},
   "outputs": [],
   "source": [
    "# find the notebook the saved figures came from\n",
    "fig_prefix='../figures/jq-'"
   ]
  },
  {
   "cell_type": "code",
   "execution_count": null,
   "metadata": {
    "colab": {
     "base_uri": "https://localhost:8080/",
     "height": 442
    },
    "colab_type": "code",
    "id": "eFY4uf1v8CGA",
    "outputId": "4945140e-20aa-43da-b9db-2917e63b3b2d"
   },
   "outputs": [],
   "source": [
    "# from IPython.display import IFrame\n",
    "# IFrame('https://dataviz.vam.wfp.org/economic_explorer/price-forecasts-alerts?adm0=205', width=700, height=400)"
   ]
  },
  {
   "cell_type": "code",
   "execution_count": null,
   "metadata": {
    "colab": {
     "base_uri": "https://localhost:8080/",
     "height": 408
    },
    "colab_type": "code",
    "id": "nPtHKDl4o1JT",
    "outputId": "c5547a6d-95ed-47ca-a8bc-50c81d76e32a"
   },
   "outputs": [],
   "source": [
    "df =pd.read_csv('../data/eac-ratin.csv')\n",
    "df.tail(5)"
   ]
  },
  {
   "cell_type": "code",
   "execution_count": null,
   "metadata": {},
   "outputs": [],
   "source": [
    "# import qgrid\n",
    "# qgrid.nbinstall(overwrite=True)\n",
    "# qgrid.show_grid(df, remote_js=True)"
   ]
  },
  {
   "cell_type": "markdown",
   "metadata": {},
   "source": [
    "Data cleaning: NaN, dtype conversion"
   ]
  },
  {
   "cell_type": "code",
   "execution_count": null,
   "metadata": {},
   "outputs": [],
   "source": [
    "df = df.rename(columns = lambda x: x.lower())\n",
    "cols = df.columns.tolist()\n",
    "df = df.rename(columns={cols[-3]: 'retail', cols[-2]: 'wholesale'})\n",
    "df.columns.tolist()"
   ]
  },
  {
   "cell_type": "code",
   "execution_count": null,
   "metadata": {},
   "outputs": [],
   "source": [
    "df.dtypes"
   ]
  },
  {
   "cell_type": "code",
   "execution_count": null,
   "metadata": {},
   "outputs": [],
   "source": [
    "df['wholesale'].sort_values().unique()"
   ]
  },
  {
   "cell_type": "code",
   "execution_count": null,
   "metadata": {},
   "outputs": [],
   "source": [
    "df[df['wholesale']=='Wholesale'] = np.NaN\n",
    "df['wholesale']=df['wholesale'].astype('float')"
   ]
  },
  {
   "cell_type": "code",
   "execution_count": null,
   "metadata": {},
   "outputs": [],
   "source": [
    "df['retail'].sort_values().unique()"
   ]
  },
  {
   "cell_type": "code",
   "execution_count": null,
   "metadata": {},
   "outputs": [],
   "source": [
    "df[df['retail']=='NaN'] = np.NaN\n",
    "df['retail'] = df['retail'].astype('float')\n",
    "df['retail'].sort_values().unique()"
   ]
  },
  {
   "cell_type": "code",
   "execution_count": null,
   "metadata": {},
   "outputs": [],
   "source": [
    "df['date'] = pd.to_datetime(df['date'])"
   ]
  },
  {
   "cell_type": "code",
   "execution_count": null,
   "metadata": {},
   "outputs": [],
   "source": [
    "df.dtypes"
   ]
  },
  {
   "cell_type": "code",
   "execution_count": null,
   "metadata": {},
   "outputs": [],
   "source": [
    "str_cols = ['market', 'product', 'country', 'currency']\n",
    "df[str_cols].describe()\n",
    "\n",
    "for item in str_cols:\n",
    "    df[item]=df[item].astype('category') # which will by default set the length to the max len it encounters\n",
    "    print(df[item].unique())"
   ]
  },
  {
   "cell_type": "code",
   "execution_count": null,
   "metadata": {},
   "outputs": [],
   "source": [
    "df.dtypes"
   ]
  },
  {
   "cell_type": "code",
   "execution_count": null,
   "metadata": {},
   "outputs": [],
   "source": [
    "df['year']=df['date'].dt.year\n",
    "df['month']=df['date'].dt.month\n",
    "df['day']=df['date'].dt.day\n",
    "df['week']=df['date'].dt.week\n",
    "# note that since there are nan in the date colunms, let the dtype remain float"
   ]
  },
  {
   "cell_type": "code",
   "execution_count": null,
   "metadata": {},
   "outputs": [],
   "source": [
    "df.head(3)"
   ]
  },
  {
   "cell_type": "code",
   "execution_count": null,
   "metadata": {},
   "outputs": [],
   "source": [
    "np.nan\n"
   ]
  },
  {
   "cell_type": "code",
   "execution_count": null,
   "metadata": {},
   "outputs": [],
   "source": [
    "# replace zeros with NaN\n",
    "\n",
    "cols = ['wholesale', 'retail']\n",
    "df[cols] = df[cols].replace({0:np.nan})\n",
    "\n",
    "# cond = (df['wholesale']==0)\n",
    "# df_zero = df[cond]\n",
    "# df_zero['wholesale'] = np.NaN\n",
    "# df['wholesale']=df_zero['wholesale']\n"
   ]
  },
  {
   "cell_type": "code",
   "execution_count": null,
   "metadata": {},
   "outputs": [],
   "source": [
    "# return 1 to confirm no zero values\n",
    "np.prod(df['wholesale']!=0)"
   ]
  },
  {
   "cell_type": "code",
   "execution_count": null,
   "metadata": {},
   "outputs": [],
   "source": [
    "# remove outliers:\n",
    "def remove_outliers(x):\n",
    "    '''x: pandas series'''\n",
    "    lower_bound, upper_bound = x.quantile(.05), x.quantile(.95)\n",
    "    x = x[x.between(lower_bound, upper_bound)]\n",
    "    return x\n",
    "\n",
    "df['wholesale'] = remove_outliers(df['wholesale'])\n",
    "df['retail'] = remove_outliers(df['retail'])"
   ]
  },
  {
   "cell_type": "markdown",
   "metadata": {
    "colab": {},
    "colab_type": "code",
    "id": "l3gxN8t_pNa1"
   },
   "source": [
    "exploratory visualization:"
   ]
  },
  {
   "cell_type": "code",
   "execution_count": null,
   "metadata": {},
   "outputs": [],
   "source": [
    "# save a copy of cleaned data to csv\n",
    "df.to_csv('../data/cleaned_data.csv', index=False)"
   ]
  },
  {
   "cell_type": "code",
   "execution_count": null,
   "metadata": {},
   "outputs": [],
   "source": [
    "# save to db file\n",
    "from sqlalchemy import create_engine\n",
    "engine = create_engine('sqlite:///../data/mydb.db', echo=False)\n",
    "df.to_sql('data', con=engine, if_exists='replace',\n",
    "           index_label='id')"
   ]
  },
  {
   "cell_type": "code",
   "execution_count": null,
   "metadata": {},
   "outputs": [],
   "source": []
  }
 ],
 "metadata": {
  "colab": {
   "collapsed_sections": [],
   "name": "sauti_market.ipynb",
   "provenance": []
  },
  "kernelspec": {
   "display_name": "Python 3",
   "language": "python",
   "name": "python3"
  },
  "language_info": {
   "codemirror_mode": {
    "name": "ipython",
    "version": 3
   },
   "file_extension": ".py",
   "mimetype": "text/x-python",
   "name": "python",
   "nbconvert_exporter": "python",
   "pygments_lexer": "ipython3",
   "version": "3.8.1"
  }
 },
 "nbformat": 4,
 "nbformat_minor": 4
}
