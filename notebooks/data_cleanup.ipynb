{
 "cells": [
  {
   "cell_type": "code",
   "execution_count": 1,
   "metadata": {
    "colab": {},
    "colab_type": "code",
    "id": "I0OTQ9Ey7YHW"
   },
   "outputs": [],
   "source": [
    "%matplotlib inline"
   ]
  },
  {
   "cell_type": "code",
   "execution_count": 2,
   "metadata": {
    "colab": {
     "base_uri": "https://localhost:8080/",
     "height": 72
    },
    "colab_type": "code",
    "id": "1gwtAtaJ7RTN",
    "outputId": "77371b35-6929-4a4a-bdc0-ff77bdf92689"
   },
   "outputs": [],
   "source": [
    "import pandas as pd\n",
    "import numpy as np\n",
    "import matplotlib.pyplot as plt\n",
    "import seaborn as sns"
   ]
  },
  {
   "cell_type": "code",
   "execution_count": 3,
   "metadata": {
    "colab": {},
    "colab_type": "code",
    "id": "66lPusKb7RV_"
   },
   "outputs": [],
   "source": [
    "sns.set() # matplot lib defaults\n",
    "plt.rcParams['figure.figsize'] = (16, 8)\n",
    "%config InlineBackend.figure_format='retina'"
   ]
  },
  {
   "cell_type": "code",
   "execution_count": 4,
   "metadata": {},
   "outputs": [],
   "source": [
    "# find the notebook the saved figures came from\n",
    "fig_prefix='../figures/jq-'"
   ]
  },
  {
   "cell_type": "code",
   "execution_count": 5,
   "metadata": {
    "colab": {
     "base_uri": "https://localhost:8080/",
     "height": 442
    },
    "colab_type": "code",
    "id": "eFY4uf1v8CGA",
    "outputId": "4945140e-20aa-43da-b9db-2917e63b3b2d"
   },
   "outputs": [],
   "source": [
    "# from IPython.display import IFrame\n",
    "# IFrame('https://dataviz.vam.wfp.org/economic_explorer/price-forecasts-alerts?adm0=205', width=700, height=400)"
   ]
  },
  {
   "cell_type": "code",
   "execution_count": 6,
   "metadata": {
    "colab": {
     "base_uri": "https://localhost:8080/",
     "height": 408
    },
    "colab_type": "code",
    "id": "nPtHKDl4o1JT",
    "outputId": "c5547a6d-95ed-47ca-a8bc-50c81d76e32a"
   },
   "outputs": [
    {
     "data": {
      "text/html": [
       "<div>\n",
       "<style scoped>\n",
       "    .dataframe tbody tr th:only-of-type {\n",
       "        vertical-align: middle;\n",
       "    }\n",
       "\n",
       "    .dataframe tbody tr th {\n",
       "        vertical-align: top;\n",
       "    }\n",
       "\n",
       "    .dataframe thead th {\n",
       "        text-align: right;\n",
       "    }\n",
       "</style>\n",
       "<table border=\"1\" class=\"dataframe\">\n",
       "  <thead>\n",
       "    <tr style=\"text-align: right;\">\n",
       "      <th></th>\n",
       "      <th>Market</th>\n",
       "      <th>Product</th>\n",
       "      <th>Country</th>\n",
       "      <th>Date</th>\n",
       "      <th>Retail (MT)</th>\n",
       "      <th>Wholesale (MT)</th>\n",
       "      <th>Currency</th>\n",
       "    </tr>\n",
       "  </thead>\n",
       "  <tbody>\n",
       "    <tr>\n",
       "      <th>70441</th>\n",
       "      <td>Tororo</td>\n",
       "      <td>Maize</td>\n",
       "      <td>Uganda</td>\n",
       "      <td>6/24/2019</td>\n",
       "      <td>1493160</td>\n",
       "      <td>1194527</td>\n",
       "      <td>UGX</td>\n",
       "    </tr>\n",
       "    <tr>\n",
       "      <th>70442</th>\n",
       "      <td>Tororo</td>\n",
       "      <td>Maize</td>\n",
       "      <td>Uganda</td>\n",
       "      <td>6/25/2019</td>\n",
       "      <td>1500000</td>\n",
       "      <td>1200000</td>\n",
       "      <td>UGX</td>\n",
       "    </tr>\n",
       "    <tr>\n",
       "      <th>70443</th>\n",
       "      <td>Tororo</td>\n",
       "      <td>Maize</td>\n",
       "      <td>Uganda</td>\n",
       "      <td>6/26/2019</td>\n",
       "      <td>1499998</td>\n",
       "      <td>1200001</td>\n",
       "      <td>UGX</td>\n",
       "    </tr>\n",
       "    <tr>\n",
       "      <th>70444</th>\n",
       "      <td>Tororo</td>\n",
       "      <td>Maize</td>\n",
       "      <td>Uganda</td>\n",
       "      <td>6/27/2019</td>\n",
       "      <td>1505092</td>\n",
       "      <td>1204076</td>\n",
       "      <td>UGX</td>\n",
       "    </tr>\n",
       "    <tr>\n",
       "      <th>70445</th>\n",
       "      <td>Tororo</td>\n",
       "      <td>Maize</td>\n",
       "      <td>Uganda</td>\n",
       "      <td>6/28/2019</td>\n",
       "      <td>1345949</td>\n",
       "      <td>987031</td>\n",
       "      <td>UGX</td>\n",
       "    </tr>\n",
       "  </tbody>\n",
       "</table>\n",
       "</div>"
      ],
      "text/plain": [
       "       Market Product Country       Date Retail (MT) Wholesale (MT) Currency\n",
       "70441  Tororo   Maize  Uganda  6/24/2019     1493160        1194527      UGX\n",
       "70442  Tororo   Maize  Uganda  6/25/2019     1500000        1200000      UGX\n",
       "70443  Tororo   Maize  Uganda  6/26/2019     1499998        1200001      UGX\n",
       "70444  Tororo   Maize  Uganda  6/27/2019     1505092        1204076      UGX\n",
       "70445  Tororo   Maize  Uganda  6/28/2019     1345949         987031      UGX"
      ]
     },
     "execution_count": 6,
     "metadata": {},
     "output_type": "execute_result"
    }
   ],
   "source": [
    "df =pd.read_csv('../data/eac-ratin.csv')\n",
    "df.tail(5)"
   ]
  },
  {
   "cell_type": "code",
   "execution_count": 7,
   "metadata": {},
   "outputs": [],
   "source": [
    "# import qgrid\n",
    "# qgrid.nbinstall(overwrite=True)\n",
    "# qgrid.show_grid(df, remote_js=True)"
   ]
  },
  {
   "cell_type": "markdown",
   "metadata": {},
   "source": [
    "Data cleaning: NaN, dtype conversion"
   ]
  },
  {
   "cell_type": "code",
   "execution_count": 8,
   "metadata": {},
   "outputs": [
    {
     "data": {
      "text/plain": [
       "['market', 'product', 'country', 'date', 'retail', 'wholesale', 'currency']"
      ]
     },
     "execution_count": 8,
     "metadata": {},
     "output_type": "execute_result"
    }
   ],
   "source": [
    "df = df.rename(columns = lambda x: x.lower())\n",
    "cols = df.columns.tolist()\n",
    "df = df.rename(columns={cols[-3]: 'retail', cols[-2]: 'wholesale'})\n",
    "df.columns.tolist()"
   ]
  },
  {
   "cell_type": "code",
   "execution_count": 9,
   "metadata": {},
   "outputs": [
    {
     "data": {
      "text/plain": [
       "market       object\n",
       "product      object\n",
       "country      object\n",
       "date         object\n",
       "retail       object\n",
       "wholesale    object\n",
       "currency     object\n",
       "dtype: object"
      ]
     },
     "execution_count": 9,
     "metadata": {},
     "output_type": "execute_result"
    }
   ],
   "source": [
    "df.dtypes"
   ]
  },
  {
   "cell_type": "code",
   "execution_count": 10,
   "metadata": {},
   "outputs": [
    {
     "data": {
      "text/plain": [
       "array(['0', '1', '1000', ..., '999998', '999999', 'Wholesale'],\n",
       "      dtype=object)"
      ]
     },
     "execution_count": 10,
     "metadata": {},
     "output_type": "execute_result"
    }
   ],
   "source": [
    "df['wholesale'].sort_values().unique()"
   ]
  },
  {
   "cell_type": "code",
   "execution_count": 11,
   "metadata": {},
   "outputs": [],
   "source": [
    "df[df['wholesale']=='Wholesale'] = np.NaN\n",
    "df['wholesale']=df['wholesale'].astype('float')"
   ]
  },
  {
   "cell_type": "code",
   "execution_count": 12,
   "metadata": {},
   "outputs": [
    {
     "data": {
      "text/plain": [
       "array(['0', '1', '1000', ..., '999999', '9999998', nan], dtype=object)"
      ]
     },
     "execution_count": 12,
     "metadata": {},
     "output_type": "execute_result"
    }
   ],
   "source": [
    "df['retail'].sort_values().unique()"
   ]
  },
  {
   "cell_type": "code",
   "execution_count": 13,
   "metadata": {},
   "outputs": [
    {
     "data": {
      "text/plain": [
       "array([0.0000000e+00, 1.0000000e+00, 1.6000000e+02, ..., 1.0191057e+07,\n",
       "       1.7999999e+07,           nan])"
      ]
     },
     "execution_count": 13,
     "metadata": {},
     "output_type": "execute_result"
    }
   ],
   "source": [
    "df[df['retail']=='NaN'] = np.NaN\n",
    "df['retail'] = df['retail'].astype('float')\n",
    "df['retail'].sort_values().unique()"
   ]
  },
  {
   "cell_type": "code",
   "execution_count": 14,
   "metadata": {},
   "outputs": [],
   "source": [
    "df['date'] = pd.to_datetime(df['date'])"
   ]
  },
  {
   "cell_type": "code",
   "execution_count": 15,
   "metadata": {},
   "outputs": [
    {
     "data": {
      "text/plain": [
       "market               object\n",
       "product              object\n",
       "country              object\n",
       "date         datetime64[ns]\n",
       "retail              float64\n",
       "wholesale           float64\n",
       "currency             object\n",
       "dtype: object"
      ]
     },
     "execution_count": 15,
     "metadata": {},
     "output_type": "execute_result"
    }
   ],
   "source": [
    "df.dtypes"
   ]
  },
  {
   "cell_type": "code",
   "execution_count": 16,
   "metadata": {},
   "outputs": [
    {
     "name": "stdout",
     "output_type": "stream",
     "text": [
      "[Bujumbura, Gitega, Kobero market, Ngozi, NaN, ..., Masindi, Mbale, Owino, Soroti, Tororo]\n",
      "Length: 59\n",
      "Categories (58, object): [Bujumbura, Gitega, Kobero market, Ngozi, ..., Mbale, Owino, Soroti, Tororo]\n",
      "[Maize, NaN]\n",
      "Categories (1, object): [Maize]\n",
      "[Burundi, NaN, DRC, Kenya, Rwanda, South Sudan, Tanzania, Uganda]\n",
      "Categories (7, object): [Burundi, DRC, Kenya, Rwanda, South Sudan, Tanzania, Uganda]\n",
      "[BIF, NaN, CDF, KES, RWF, SSD, TZS, UGX]\n",
      "Categories (7, object): [BIF, CDF, KES, RWF, SSD, TZS, UGX]\n"
     ]
    }
   ],
   "source": [
    "str_cols = ['market', 'product', 'country', 'currency']\n",
    "df[str_cols].describe()\n",
    "\n",
    "for item in str_cols:\n",
    "    df[item]=df[item].astype('category') # which will by default set the length to the max len it encounters\n",
    "    print(df[item].unique())"
   ]
  },
  {
   "cell_type": "code",
   "execution_count": 17,
   "metadata": {},
   "outputs": [
    {
     "data": {
      "text/plain": [
       "market             category\n",
       "product            category\n",
       "country            category\n",
       "date         datetime64[ns]\n",
       "retail              float64\n",
       "wholesale           float64\n",
       "currency           category\n",
       "dtype: object"
      ]
     },
     "execution_count": 17,
     "metadata": {},
     "output_type": "execute_result"
    }
   ],
   "source": [
    "df.dtypes"
   ]
  },
  {
   "cell_type": "code",
   "execution_count": 18,
   "metadata": {},
   "outputs": [],
   "source": [
    "df['year']=df['date'].dt.year\n",
    "df['month']=df['date'].dt.month\n",
    "df['day']=df['date'].dt.day\n",
    "df['week']=df['date'].dt.week\n",
    "# note that since there are nan in the date colunms, let the dtype remain float"
   ]
  },
  {
   "cell_type": "code",
   "execution_count": 19,
   "metadata": {},
   "outputs": [
    {
     "data": {
      "text/html": [
       "<div>\n",
       "<style scoped>\n",
       "    .dataframe tbody tr th:only-of-type {\n",
       "        vertical-align: middle;\n",
       "    }\n",
       "\n",
       "    .dataframe tbody tr th {\n",
       "        vertical-align: top;\n",
       "    }\n",
       "\n",
       "    .dataframe thead th {\n",
       "        text-align: right;\n",
       "    }\n",
       "</style>\n",
       "<table border=\"1\" class=\"dataframe\">\n",
       "  <thead>\n",
       "    <tr style=\"text-align: right;\">\n",
       "      <th></th>\n",
       "      <th>market</th>\n",
       "      <th>product</th>\n",
       "      <th>country</th>\n",
       "      <th>date</th>\n",
       "      <th>retail</th>\n",
       "      <th>wholesale</th>\n",
       "      <th>currency</th>\n",
       "      <th>year</th>\n",
       "      <th>month</th>\n",
       "      <th>day</th>\n",
       "      <th>week</th>\n",
       "    </tr>\n",
       "  </thead>\n",
       "  <tbody>\n",
       "    <tr>\n",
       "      <th>0</th>\n",
       "      <td>Bujumbura</td>\n",
       "      <td>Maize</td>\n",
       "      <td>Burundi</td>\n",
       "      <td>2011-10-04</td>\n",
       "      <td>0.0</td>\n",
       "      <td>548798.0</td>\n",
       "      <td>BIF</td>\n",
       "      <td>2011.0</td>\n",
       "      <td>10.0</td>\n",
       "      <td>4.0</td>\n",
       "      <td>40.0</td>\n",
       "    </tr>\n",
       "    <tr>\n",
       "      <th>1</th>\n",
       "      <td>Bujumbura</td>\n",
       "      <td>Maize</td>\n",
       "      <td>Burundi</td>\n",
       "      <td>2011-10-05</td>\n",
       "      <td>0.0</td>\n",
       "      <td>549000.0</td>\n",
       "      <td>BIF</td>\n",
       "      <td>2011.0</td>\n",
       "      <td>10.0</td>\n",
       "      <td>5.0</td>\n",
       "      <td>40.0</td>\n",
       "    </tr>\n",
       "    <tr>\n",
       "      <th>2</th>\n",
       "      <td>Bujumbura</td>\n",
       "      <td>Maize</td>\n",
       "      <td>Burundi</td>\n",
       "      <td>2011-10-06</td>\n",
       "      <td>0.0</td>\n",
       "      <td>498970.0</td>\n",
       "      <td>BIF</td>\n",
       "      <td>2011.0</td>\n",
       "      <td>10.0</td>\n",
       "      <td>6.0</td>\n",
       "      <td>40.0</td>\n",
       "    </tr>\n",
       "  </tbody>\n",
       "</table>\n",
       "</div>"
      ],
      "text/plain": [
       "      market product  country       date  retail  wholesale currency    year  \\\n",
       "0  Bujumbura   Maize  Burundi 2011-10-04     0.0   548798.0      BIF  2011.0   \n",
       "1  Bujumbura   Maize  Burundi 2011-10-05     0.0   549000.0      BIF  2011.0   \n",
       "2  Bujumbura   Maize  Burundi 2011-10-06     0.0   498970.0      BIF  2011.0   \n",
       "\n",
       "   month  day  week  \n",
       "0   10.0  4.0  40.0  \n",
       "1   10.0  5.0  40.0  \n",
       "2   10.0  6.0  40.0  "
      ]
     },
     "execution_count": 19,
     "metadata": {},
     "output_type": "execute_result"
    }
   ],
   "source": [
    "df.head(3)"
   ]
  },
  {
   "cell_type": "code",
   "execution_count": 20,
   "metadata": {},
   "outputs": [
    {
     "data": {
      "text/plain": [
       "nan"
      ]
     },
     "execution_count": 20,
     "metadata": {},
     "output_type": "execute_result"
    }
   ],
   "source": [
    "np.nan\n"
   ]
  },
  {
   "cell_type": "code",
   "execution_count": 21,
   "metadata": {},
   "outputs": [],
   "source": [
    "# replace zeros with NaN\n",
    "\n",
    "cols = ['wholesale', 'retail']\n",
    "df[cols] = df[cols].replace({0:np.nan})\n",
    "\n",
    "# cond = (df['wholesale']==0)\n",
    "# df_zero = df[cond]\n",
    "# df_zero['wholesale'] = np.NaN\n",
    "# df['wholesale']=df_zero['wholesale']\n"
   ]
  },
  {
   "cell_type": "code",
   "execution_count": 22,
   "metadata": {},
   "outputs": [
    {
     "data": {
      "text/plain": [
       "1"
      ]
     },
     "execution_count": 22,
     "metadata": {},
     "output_type": "execute_result"
    }
   ],
   "source": [
    "# return 1 to confirm no zero values\n",
    "np.prod(df['wholesale']!=0)"
   ]
  },
  {
   "cell_type": "code",
   "execution_count": 23,
   "metadata": {},
   "outputs": [],
   "source": [
    "# remove outliers:\n",
    "def remove_outliers(x):\n",
    "    '''x: pandas series'''\n",
    "    lower_bound, upper_bound = x.quantile(.05), x.quantile(.95)\n",
    "    x = x[x.between(lower_bound, upper_bound)]\n",
    "    return x\n",
    "\n",
    "df['wholesale'] = remove_outliers(df['wholesale'])\n",
    "df['retail'] = remove_outliers(df['retail'])"
   ]
  },
  {
   "cell_type": "markdown",
   "metadata": {
    "colab": {},
    "colab_type": "code",
    "id": "l3gxN8t_pNa1"
   },
   "source": [
    "exploratory visualization:"
   ]
  },
  {
   "cell_type": "code",
   "execution_count": 24,
   "metadata": {},
   "outputs": [],
   "source": [
    "# save a copy of cleaned data to csv\n",
    "df.to_csv('../data/cleaned_data.csv', index=False)"
   ]
  },
  {
   "cell_type": "code",
   "execution_count": 25,
   "metadata": {},
   "outputs": [],
   "source": [
    "# save to db file\n",
    "from sqlalchemy import create_engine\n",
    "engine = create_engine('sqlite:///../data/mydb.db', echo=False)\n",
    "df.to_sql('data', con=engine, if_exists='replace',\n",
    "           index_label='id')"
   ]
  },
  {
   "cell_type": "code",
   "execution_count": null,
   "metadata": {},
   "outputs": [],
   "source": []
  }
 ],
 "metadata": {
  "colab": {
   "collapsed_sections": [],
   "name": "sauti_market.ipynb",
   "provenance": []
  },
  "kernelspec": {
   "display_name": "Python 3",
   "language": "python",
   "name": "python3"
  },
  "language_info": {
   "codemirror_mode": {
    "name": "ipython",
    "version": 3
   },
   "file_extension": ".py",
   "mimetype": "text/x-python",
   "name": "python",
   "nbconvert_exporter": "python",
   "pygments_lexer": "ipython3",
   "version": "3.8.1"
  }
 },
 "nbformat": 4,
 "nbformat_minor": 4
}
